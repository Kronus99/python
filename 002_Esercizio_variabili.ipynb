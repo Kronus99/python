{
  "nbformat": 4,
  "nbformat_minor": 0,
  "metadata": {
    "colab": {
      "provenance": []
    },
    "kernelspec": {
      "name": "python3",
      "display_name": "Python 3"
    },
    "language_info": {
      "name": "python"
    }
  },
  "cells": [
    {
      "cell_type": "markdown",
      "source": [
        "Esercizio 1\n",
        "Dichiarare una variabile \"numero_intero\" e assegnargli un valore intero. Mandare a schermo il tipo della variabile per conferma."
      ],
      "metadata": {
        "id": "Q-epb7VyyNa4"
      }
    },
    {
      "cell_type": "code",
      "execution_count": 3,
      "metadata": {
        "colab": {
          "base_uri": "https://localhost:8080/"
        },
        "id": "ARB_iPZdyG6O",
        "outputId": "31d5f550-8fbf-45c6-b24b-218aa589bcd2"
      },
      "outputs": [
        {
          "output_type": "execute_result",
          "data": {
            "text/plain": [
              "int"
            ]
          },
          "metadata": {},
          "execution_count": 3
        }
      ],
      "source": [
        "numero_intero = 10\n",
        "type(numero_intero)"
      ]
    },
    {
      "cell_type": "markdown",
      "source": [
        "Esercizio 2\n",
        "Dichiarare una variabile \"numero_decimale\" e assegnargli un valore float. Mandare a schermo il tipo della variabile per conferma."
      ],
      "metadata": {
        "id": "MoUvjep0zC-t"
      }
    },
    {
      "cell_type": "code",
      "source": [
        "numero_decimale = 5.5\n",
        "type(numero_decimale)"
      ],
      "metadata": {
        "colab": {
          "base_uri": "https://localhost:8080/"
        },
        "id": "0YyMwXUQzDFb",
        "outputId": "a2217ed6-2e64-4a4e-cddf-e65b0a97f196"
      },
      "execution_count": 4,
      "outputs": [
        {
          "output_type": "execute_result",
          "data": {
            "text/plain": [
              "float"
            ]
          },
          "metadata": {},
          "execution_count": 4
        }
      ]
    },
    {
      "cell_type": "markdown",
      "source": [
        "Esercizio 3\n",
        "Creare una variabile \"testo\" e assegnargli una stringa contenente una frase. Mandare a schermo il tipo della variabile per conferma."
      ],
      "metadata": {
        "id": "RD-AYg6x5U_q"
      }
    },
    {
      "cell_type": "code",
      "source": [
        "testo = \"ciao sono Silvio\"\n",
        "type(testo)"
      ],
      "metadata": {
        "colab": {
          "base_uri": "https://localhost:8080/"
        },
        "id": "vPd3XrzK5VKx",
        "outputId": "2db6ecd2-84e3-4f79-ffd6-da61f86d036c"
      },
      "execution_count": 5,
      "outputs": [
        {
          "output_type": "execute_result",
          "data": {
            "text/plain": [
              "str"
            ]
          },
          "metadata": {},
          "execution_count": 5
        }
      ]
    },
    {
      "cell_type": "markdown",
      "source": [
        "Esercizio 5\n",
        "Creare una lista \"numeri\" contenente 5 numeri interi. Mandare a schermo il tipo della variabile per conferma."
      ],
      "metadata": {
        "id": "E52VTlcu5u9-"
      }
    },
    {
      "cell_type": "code",
      "source": [
        "lista_numeri = [1,2,3,4,5]\n",
        "type(lista_numeri)"
      ],
      "metadata": {
        "colab": {
          "base_uri": "https://localhost:8080/"
        },
        "id": "Cvetp39B5u4M",
        "outputId": "59375a19-ff1c-42ba-98f8-2a6884cd888d"
      },
      "execution_count": 6,
      "outputs": [
        {
          "output_type": "execute_result",
          "data": {
            "text/plain": [
              "list"
            ]
          },
          "metadata": {},
          "execution_count": 6
        }
      ]
    },
    {
      "cell_type": "markdown",
      "source": [
        "Esercizio 6\n",
        "Creare una lista \"misti\" contenente un numero intero, un numero float, una stringa e un valore booleano. Mandare a schermo il tipo della variabile per conferma."
      ],
      "metadata": {
        "id": "aycMjsbR6E9C"
      }
    },
    {
      "cell_type": "code",
      "source": [
        "lista_mista = [10, 10.5,\"Esempio\",False]\n",
        "type(lista_mista)"
      ],
      "metadata": {
        "colab": {
          "base_uri": "https://localhost:8080/"
        },
        "id": "k4JIJq9W6FFL",
        "outputId": "0f56c0f7-dc5a-4ca3-fded-9dea0bc830dc"
      },
      "execution_count": 9,
      "outputs": [
        {
          "output_type": "execute_result",
          "data": {
            "text/plain": [
              "list"
            ]
          },
          "metadata": {},
          "execution_count": 9
        }
      ]
    },
    {
      "cell_type": "markdown",
      "source": [
        "Esercizio 7\n",
        "Creare una tupla \"giorni_settimana\" contenente i giorni della settimana come stringhe. Mandare a schermo il tipo della variabile per conferma."
      ],
      "metadata": {
        "id": "awc2TbcA6bVg"
      }
    },
    {
      "cell_type": "code",
      "source": [
        "giorni_settimana = (\"lunedi\",\"martedi\",\"mercoledi\",\"giovedi\",\"venerdi\",\"sabato\",\"domenica\")\n",
        "type(giorni_settimana)"
      ],
      "metadata": {
        "colab": {
          "base_uri": "https://localhost:8080/"
        },
        "id": "-8BlUCLC6bN2",
        "outputId": "0bc86810-4c44-4759-db7f-8f513c554137"
      },
      "execution_count": 10,
      "outputs": [
        {
          "output_type": "execute_result",
          "data": {
            "text/plain": [
              "tuple"
            ]
          },
          "metadata": {},
          "execution_count": 10
        }
      ]
    },
    {
      "cell_type": "markdown",
      "source": [
        "Esercizio 8\n",
        "Creare un dizionario \"informazioni_personali\" contenente il tuo nome, cognome, età e città di residenza. Mandare a schermo il tipo della variabile per conferma."
      ],
      "metadata": {
        "id": "eh26DvFW8MvH"
      }
    },
    {
      "cell_type": "code",
      "source": [
        "informazioni_personali = {\n",
        "    \"nome\" : \"Silvio\",\n",
        "    \"cognome\": \"Coppa\",\n",
        "    \"eta\": 25,\n",
        "    \"citta di residenza\": \"Napoli\"\n",
        "}\n",
        "type(informazioni_personali)"
      ],
      "metadata": {
        "colab": {
          "base_uri": "https://localhost:8080/"
        },
        "id": "4Y4SrDmf6pVw",
        "outputId": "44ed513e-9c24-436f-bdb4-08a71cb9fd5e"
      },
      "execution_count": 15,
      "outputs": [
        {
          "output_type": "execute_result",
          "data": {
            "text/plain": [
              "dict"
            ]
          },
          "metadata": {},
          "execution_count": 15
        }
      ]
    }
  ]
}
